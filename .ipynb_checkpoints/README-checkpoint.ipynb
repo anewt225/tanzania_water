{
 "cells": [
  {
   "cell_type": "markdown",
   "metadata": {},
   "source": [
    "![Seattle Skyline](Images/milkovi-skUTVJi8-jc-unsplash.jpg)"
   ]
  },
  {
   "cell_type": "markdown",
   "metadata": {},
   "source": [
    "# King County Housing - Pricing Predictions"
   ]
  },
  {
   "cell_type": "markdown",
   "metadata": {},
   "source": [
    "## Overview\n",
    "\n",
    "\n",
    "\n",
    "### Repository Navigation\n",
    "- [Data Folder Includes:](Data)\n",
    "    - [Original Dataset](Data/kc_house_data.csv)\n",
    "    - [Modified Dataset](Data/Master_Data_Table_v2.csv)\n",
    "    - [Training Dataset](Data/Train_Table.csv)\n",
    "    - [Testing Dataset](Data/Test_Table.csv)\n",
    "\n",
    "\n",
    "- Notebooks: [Summary Notebook](Notebooks/Master_Notebook_2.ipynb)\n",
    "    - [Explore Data](Notebooks/King_County_Housing_Data_EDA.ipynb)\n",
    "    - [Clean Data](Notebooks/Create_Master_Table_and_Split_Train_Test.ipynb)\n",
    "    - [Determine Confidence Intervals](Notebooks/Confidence_Interval_with_inputs.ipynb)\n",
    "    - [Train Regression](Notebooks/Training_Regression.ipynb)\n",
    "    - [Make Prediction](Notebooks/Make_Prediction.ipynb)\n",
    "    - [Visualizations](Notebooks/Visualizations)\n",
    "\n",
    "- [Presentation](Presentation/Mod_2_Project.pdf)\n",
    "\n",
    "\n",
    "\n",
    "### ReadMe Navigation\n",
    "\n",
    "1. [Business Understanding](#Business-Understanding)\n",
    "2. [Data Understanding](#Data-Understanding)\n",
    "3. [Feature Engineering](#Feature-Engineering)\n",
    "4. [Model & Prediction](#Model-&-Prediction)\n",
    "5. [Conclusions](#Conclusions)\n",
    "6. [Further Steps](#Further-Steps)\n",
    "7. [Project Info](#Project-Info)\n",
    "\n",
    "***"
   ]
  },
  {
   "cell_type": "markdown",
   "metadata": {},
   "source": [
    "## Business Understanding\n",
    "\n",
    "The context of this project is a boutique real estate firm opening in King County Washington, seeking to make a move into the market by gaining increasing their consumers. In order to do this, they've tasked their data scientists with creating a model which will predict the estimated housing price for potential clients. The desired output of this project is a simplified system which the UX team can implement on their website that will allow users to input a limited amount of known factors about their home, and output an estimated price range. They're hoping that the efficiency, accuracy, and speed of return for clients considering selling their home will 1) entice consumers towards the efficiency of their business, and 2) enable their real estate associates to quickly engage with potential clients based on model estimates. So our guiding questions were:\n",
    "\n",
    "1. Which 5 are the top most influencing factors upon home price? \n",
    "\n",
    "2. Given data about these factors from the potential client's home, what will be the predicted selling price of their home?\n",
    "\n",
    "\n",
    "***"
   ]
  },
  {
   "cell_type": "markdown",
   "metadata": {
    "heading_collapsed": true
   },
   "source": [
    "## Data Understanding\n",
    "The data given for this project came from housing sales data from King County Washington for houses sold between May 2014 and May 2015.  Combining the information revealed from the dataset with industry relevant knowledge revealed a few categories of features which we thought would have an impact upon the sales price of the house. The sets we used, specifically included \n",
    "\n",
    "1. [King County Government House Data](Data/kc_house_data.csv)\n",
    "2. [King County GIS Open Data Platform](https://data.kingcounty.gov/)\n",
    "3. [School Performance Data from Background Checks.org](https://backgroundchecks.org/top-school-districts-in-washington-2018.html)\n",
    "\n",
    "\n",
    "Overall, the data provided included the sales price and other information for around 21,000 houses sold between May 2014 and My 2015.\n",
    "\n",
    "An overall map of the data:\n",
    "![King County House Sales](Images/location.png)\n",
    "\n",
    "The distribution of prices looked like this:\n",
    "\n",
    "![Price Histogram](Images/price.png)\n",
    "\n",
    "### Data Categories\n",
    "#### **Location**, location, location\n",
    "What's the impact on the selling price if the home is in a top school district, in the Seattle metro area, or on the waterfront?\n",
    "\n",
    "#### The **size** of the house in the fight...?\n",
    "What size datapoints most impact the sales price of the house? Bedrooms, bathrooms, floors, basement space, etc?\n",
    "\n",
    "#### **Quality**: I'll huff, and I'll puff, and...\n",
    "...will your house be blown down? How effective can King County condition and grade values be in predicting the value of your home?\n",
    "\n",
    "\n",
    "\n",
    "### Data Limitations\n",
    "#### Date\n",
    "The sales data we used was from Maay 2014 - May 2015. This would prevent us from being able to see any longer term trends in the change of housing price between years. Additionally, this analysis did not account for inflation. Finally, we would have liked to have more recent data to assess any pattern or trends in sales price impact by current events (pandemics, protests, politics).\n",
    "\n",
    "#### Model Simplicity\n",
    "The model goes for simplicity over predictive accuracy - so the model does not explain every variationin price. The business purpose is to enable people with limited information to get a general range, and allow the real estate firm to do the rest in terms of specifics. \n",
    "\n",
    "#### Price Range\n",
    "We limited the data for the model to houses above worth more than 100,000 USD and less than 1,000,000. Given the business being boutique and new in the market, the business goal was refined to be worth initial investments, but not beyond the expertise of associates new to the Seattle scene.                                            \n",
    "\n",
    "\n",
    "### Data Assumptions\n",
    "\n",
    "Additionally, based on the business understanding and industry knowledge, we made several assumptions about the data in order to qualify the predictive accuracy of the model, including\n",
    "\n",
    "#### Renovations were total\n",
    "We assumed that homes marked as renovated by King County were total renovations - not just partial (e.g., kitchen, bathroom, etc.). \n",
    "\n",
    "#### Access to location data\n",
    "We assumed that the potential client would know the location of their home.\n",
    "\n",
    "***"
   ]
  },
  {
   "cell_type": "markdown",
   "metadata": {},
   "source": [
    "## Feature Engineering\n",
    "Given the categories of data listed above, we selected certain factors within the dataset, and created or found new features that would help to create a more accurate pricing model. The new features were:\n",
    "\n",
    "1. Defining top school districts\n",
    "2. Creating a \"season sold\" factor\n",
    "3. Reshaping categorical values from continuous variables (e.g., grade/condition)\n",
    "4. Combining features, like ratio of basement space to living space\n",
    "5. Creating a user input function\n",
    "\n",
    "***"
   ]
  },
  {
   "cell_type": "markdown",
   "metadata": {},
   "source": [
    "## Model & Prediction\n",
    "\n",
    "We used the Ordinary Least Squares Regression to create a model which would help determine the most impactful factors and help us more accurately predict the prices.\n",
    "\n",
    "### Test Assumptions (Linearity, Multicollinearity)\n",
    "In order for this model to work the most effectively, we evaluated it for linearity between factors, and multicollinearity between pairs of factors, which gave us the following:\n",
    "\n",
    "![Linearity](Images/linearity.png)\n",
    "\n",
    "\n",
    "![Multicollinearity](Images/multicollinearity.png)\n",
    "\n",
    "\n",
    "\n",
    "### Iterate and Evaluate Models\n",
    "\n",
    "After iterating through, and making adjustments to, and evaluating 3 regression models, we adopted the final one using the highest R-squared value as a measure of performance. With more time we could have further refined the model to account for what appears to be an exponential function from the residuals plot:\n",
    "\n",
    "![Residuals](Images/QQ_Residuals_Plot.png)\n",
    "\n",
    "\n",
    "\n",
    "\n",
    "### Predict Values with Example Inputs\n",
    "\n",
    "Given the model we produced, we were able to create functions that would take the user inputs and output a prediction. In this example, the potential client would input the numbers after the colon:\n",
    "\n",
    "\n",
    "![Example Prediction](Images/example_prediction.png)\n",
    "\n"
   ]
  },
  {
   "cell_type": "markdown",
   "metadata": {},
   "source": [
    "## Conclusions\n",
    "\n",
    "The most predictive factors in home price were:\n",
    "\n",
    "### Location\n",
    "Price would increase by  180k USD for top 5 school district, by 210k for homes outside the city, and 480k for homes on the waterfront\n",
    "\n",
    "![Great Location!](Images/seattle-2426307.jpg)\n",
    "\n",
    "### Home Size\n",
    "Basement square footage is worth less than square footage above ground, and too many bedrooms could lower the value of the house.\n",
    "\n",
    "![Home Size](Images/sq_ft_living.png)\n",
    "\n",
    "### Quality\n",
    "Homes with high grades (good architecture and build quality) are worth significantly more than lower grades, and homes in a very good condition have a relatively significant impact over just average homes.\n",
    "\n",
    "![Grade 6 vs Grade 12 Home](Images/grade6vs12.png)\n",
    "\n",
    "### When to Sell\n",
    "Homes sold in spring/summer sold significantly more than those sold in fall/winter - presumably from that gloomy Seattle rain :-P\n",
    "\n",
    "![Seasons Sold Comparison Price](Images/mean_price_season_sold.png)"
   ]
  },
  {
   "cell_type": "markdown",
   "metadata": {},
   "source": [
    "## Further Steps\n",
    "\n",
    "### Internal to Data Science Team\n",
    "With less of a time constraint, we would:\n",
    "\n",
    "1. Fix normality issues in model.\n",
    "2. Fix heteroskedasticity issues in model.\n",
    "3. Fix multicollinearity issues in model\n",
    "4. Test effectiveness of model using test data.\n",
    "5. Explore industry and create new features\n",
    "5. Deploy consumer product\n",
    "\n",
    "### For Real Estate Team\n",
    "Given additional resources, we would recommend the following to the firm:\n",
    "\n",
    "1. Collect additional relevant data around other factors, using expertise\n",
    "2. Open up to home prices above 1 million\n",
    "3. Provide more time-relevant data\n"
   ]
  },
  {
   "cell_type": "markdown",
   "metadata": {},
   "source": [
    "![Public Market](Images/sabine-ojeil-xsqF178XAhk-unsplash.jpg)"
   ]
  },
  {
   "cell_type": "markdown",
   "metadata": {},
   "source": [
    "## Project Info\n",
    "\n",
    "Contributors: __[Alexander](https://www.linkedin.com/in/anewt/)__ __[Newton](https://github.com/anewt225)__, __[Jim](https://www.linkedin.com/in/james-fay/)__ __[Fay](https://github.com/jrf6xh)__\n",
    "\n",
    "Languages  : Python\n",
    "\n",
    "Tools/IDE  : Git, Powershell (Windows), Anaconda, Jupyter Notebook, Google Slides\n",
    "\n",
    "Libraries  : numpy, pandas, matplotlib, seaborn, statsmodels, scipy, geopandas, descartes, shapely\n",
    "\n",
    "Duration   : July 2020\n",
    "Last Update: 07.10.2020\n",
    "\n",
    "\n",
    "```python\n",
    "\n",
    "```\n"
   ]
  }
 ],
 "metadata": {
  "kernelspec": {
   "display_name": "Python 3",
   "language": "python",
   "name": "python3"
  },
  "language_info": {
   "codemirror_mode": {
    "name": "ipython",
    "version": 3
   },
   "file_extension": ".py",
   "mimetype": "text/x-python",
   "name": "python",
   "nbconvert_exporter": "python",
   "pygments_lexer": "ipython3",
   "version": "3.8.3"
  },
  "toc": {
   "base_numbering": 1,
   "nav_menu": {
    "height": "307.975px",
    "width": "377.975px"
   },
   "number_sections": true,
   "sideBar": true,
   "skip_h1_title": false,
   "title_cell": "Table of Contents",
   "title_sidebar": "Contents",
   "toc_cell": false,
   "toc_position": {},
   "toc_section_display": true,
   "toc_window_display": false
  },
  "varInspector": {
   "cols": {
    "lenName": 16,
    "lenType": 16,
    "lenVar": 40
   },
   "kernels_config": {
    "python": {
     "delete_cmd_postfix": "",
     "delete_cmd_prefix": "del ",
     "library": "var_list.py",
     "varRefreshCmd": "print(var_dic_list())"
    },
    "r": {
     "delete_cmd_postfix": ") ",
     "delete_cmd_prefix": "rm(",
     "library": "var_list.r",
     "varRefreshCmd": "cat(var_dic_list()) "
    }
   },
   "types_to_exclude": [
    "module",
    "function",
    "builtin_function_or_method",
    "instance",
    "_Feature"
   ],
   "window_display": false
  }
 },
 "nbformat": 4,
 "nbformat_minor": 4
}
