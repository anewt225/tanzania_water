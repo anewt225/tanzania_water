{
 "cells": [
  {
   "cell_type": "markdown",
   "metadata": {},
   "source": [
    "![Lake Tanganyika, Tanzania](Images/tanganyika.jpg)"
   ]
  },
  {
   "cell_type": "markdown",
   "metadata": {},
   "source": [
    "# Tanzania Water\n",
    "Flatiron Mod 3 Project"
   ]
  },
  {
   "cell_type": "markdown",
   "metadata": {},
   "source": [
    "## Overview\n",
    "\n",
    "\n",
    "\n",
    "### Repository Navigation\n",
    "- [Data Folder Includes](Data)\n",
    "    - [Data from Taarifa on datadriven.org](https://www.drivendata.org/competitions/7/pump-it-up-data-mining-the-water-table/data/)\n",
    "        - [Training Set Labels](Data/training_set_labels.csv)\n",
    "        - [Training Set Values](Data/training_set_values.csv)\n",
    "        - [Test Set Values](Data/test_set_values.csv)\n",
    "    - Modified Datasets\n",
    "        - [Combined Training Set](training_set.csv)\n",
    "        - [Altitude Data](Data/looked_up_alts.csv)\n",
    "        - [Cleaned Data](Data/cleaned_data_072920_shaw.csv)\n",
    "        - [Preliminary Data](Data/water_well.csv)\n",
    "\n",
    "\n",
    "- Notebooks: [Summary Notebook](Notebooks/Master_Notebook_2.ipynb)\n",
    "    - [Exploratory Data Analysis](Notebooks/EDA_Alex.ipynb)\n",
    "    - [Data Production](Notebooks/data_production_notebook.ipynb)\n",
    "    - [Determine Confidence Intervals](Notebooks/Confidence_Interval_with_inputs.ipynb)\n",
    "    - [Train Regression](Notebooks/Training_Regression.ipynb)\n",
    "    - [Make Prediction](Notebooks/Make_Prediction.ipynb)\n",
    "    - [Visualizations](Notebooks/Visualizations)\n",
    "\n",
    "- [Presentation](Presentation/WATER.pdf) [Presentation](Presentation/WATER_presentation.ppf)\n",
    "\n",
    "\n",
    "\n",
    "### ReadMe Navigation\n",
    "\n",
    "1. [Business Context](#Business-Context)\n",
    "2. [Current Landscape](#Data-Understanding)\n",
    "    1. The problem\n",
    "    2. Data Understanding\n",
    "    3. Data Limitations\n",
    "    \n",
    "3. [Predictive Analysis](#Predictive-Analysis)\n",
    "    1. [Performance Metric](Performance-Metric)\n",
    "    2. [Model Selection](#Model-Selection)\n",
    "    3. [Feature Importance](#Feature-Importance)\n",
    "    \n",
    "4. [Conclusion & Takeaways](Conclusions-and-Takeaways)\n",
    "    1. Improvement Areas\n",
    "    2. Growth Opportunities\n",
    "    3. Takeaways\n",
    "\n",
    "5. [Conclusions](#Conclusions)\n",
    "6. [Further Steps](#Further-Steps)\n",
    "7. [Project Info](#Project-Info)\n",
    "\n",
    "***"
   ]
  },
  {
   "cell_type": "markdown",
   "metadata": {},
   "source": [
    "## Business Context\n",
    "\n",
    "Water in Africa: Techmnical and Equipment Researchers, LTD. (WATER) is a (hypothetical) consultancy which seeks to amplify the positive effects of progress in water point parts, supply, and maintenance. Progress may be made by the public and/or private sectors by analyzing, and anticipating the status of water point repair more quickly and efficiently.\n",
    "\n",
    "### Predicting Water Point Maintenance Status from Data\n",
    "\n",
    "The instrumental goal in this project is to construct a model capable of predicting the status of a waterpoint (specifically, in Tanzania), between the three states of \"functional\", \"functional needs repair\", and \"non functioning\".The underlying motivation is to create a cheaply implemented, readily available tool for businesses or other organizations looking to provide maintenance and replacement services for said waterpoints. This should in principle lower the overhead costs for such providers (less chance of over-ordering parts, over-hiring staff, etc.) and so should, due to lower volatility and increased profitability, stimulate the creation of new providers or expansion of new ones.\n",
    "\n",
    "A major factor in waterpoint failure is difficulty in accessing necessary maintenance; this model would help ameliorate that. In summary, our goal was:\n",
    "\n",
    "**Reduce overhead costs by anticipating water pump maintenance status.**\n",
    "\n",
    "\n",
    "\n",
    "\n",
    "***"
   ]
  },
  {
   "cell_type": "markdown",
   "metadata": {},
   "source": [
    "### The Problem\n",
    "\n",
    "Providing additional context, we viewed several problems: several water points need work, maintenance was costly and infrequent, and water points would stay in states of disrepair because of these costs\n",
    "\n",
    "Our model helps to fix those problems by starting with more efficient market planning in determining resource distributions and repair/maintenance/parts necessities. Further, it should reduce volatility and increase profitability for maintenance providers. Finally, ideally it would increase the size of the pie by enabling more maintenance providers to enter the space"
   ]
  },
  {
   "cell_type": "markdown",
   "metadata": {},
   "source": [
    "## Data Understanding\n",
    "\n",
    "The data from this project came from various collection efforts in the early 2000s, with GeoData LTD. listed as the data recorder. Combining industry knowledge with \n",
    "\n",
    "Overall, the data provided included the sales price and other information for around 21,000 houses sold between May 2014 and My 2015.\n",
    "\n",
    "An overall map of Tanzania, with the functional, needs repair, and nonfunctional categories\n",
    "![Functionality Map](Images/geographical_viz.png)\n",
    "\n",
    "The distribution of functionalities looked like this:\n",
    "\n",
    "![Distribution](Images/distributions.png)\n",
    "\n",
    "### Data Categories\n",
    "####  Geographical\n",
    "This data included politically geographical data as well as geological data about the altitudes of the water points\n",
    "\n",
    "\n",
    "#### Management\n",
    "Several index names covered this category: installer, scheme management, management, etc.\n",
    "\n",
    "#### Waterpoint Specifics\n",
    "These datapoints could be summarized as specific to the actual water point - names, type of extraction, quality of the water, etc.\n",
    "\n",
    "#### Numerical, Ordinal,  Categorical\n",
    "The datatypes used in these columns were of various types that would have to be considered when implementing our algorithms.\n",
    "\n",
    "### Feature Importance\n",
    "In order to make the model understandable, we extracted the features which the model determined to be most impactfully correlated with the status group, including: quantity of water available, region, payment type, source, elevation, etc."
   ]
  },
  {
   "cell_type": "markdown",
   "metadata": {},
   "source": [
    "### Data Limitations\n",
    "\n",
    "Amongst others, the limitations on data we encountered that would impact how our model trained:\n",
    "\n",
    "1. Multiple reporters\n",
    "2. Inconsistent naming/reporting\n",
    "3. Opaque Values\n",
    "4. Few examples of \"needs repair\"\n",
    "5. Clear mistakes\n",
    "\n",
    "We \"solved some of these issues by:\n",
    "1. Autocorrection for typographical errors\n",
    "2. Google maps data for missing elevation data\n",
    "3. Filling in other missing data by the most similar attributes\n",
    "                                        \n",
    "\n",
    "***"
   ]
  },
  {
   "cell_type": "markdown",
   "metadata": {},
   "source": [
    "## Predictive Analysis\n",
    "\n",
    "### Performance Metric\n",
    "When evaluating several models, we chose to use a weighted-average \"Recall Score\" as our performance metric. This would enable us to most accurately predict which pumps were nonfunctional or needed repair. \n",
    "\n",
    "###  Model Selection\n",
    "We created a pipeline for our model that started with a SimpleImputer to clean values, OneHotEncoding to create numerical data out of the categoricals, and a KNN Imputer to fill in any remaining missing values. \n",
    "\n",
    "Then, after evaluating several classification models in scikit-learn (Logistic Regression, KNN Classifier, Decision Tree Classifier, XGBoost, Random Forest Classifier, and Naive Bayes), we settled upon DecisionTreeClassifier and RandomForests to give our most accurate recall. That resulted in the following:\n",
    "\n",
    "![Recall Score](Images/recall.png)\n",
    "\n",
    "In this image, the brown represents the accurately predicted nonfunctional water points, which all require maintenance, parts, etc. The red and blue represent situations in which the parts/maintenance supplier would be underprepared or overprepared in terms of resources (inefficient allocation). The green in the center was what we minimized. And the far right gray represents functional water points that we are not yet concerned with."
   ]
  },
  {
   "attachments": {},
   "cell_type": "markdown",
   "metadata": {},
   "source": [
    "### Feature Importance\n",
    "After running the algorithm, we determined that the model would be most effective to understand and implement for potential parts/repair/maintenance firms if they understood which factors contributed the most to the predictions, so they are listed here:\n",
    "\n",
    "![Feature Importance](Images/Feature-Importance.png)"
   ]
  },
  {
   "attachments": {},
   "cell_type": "markdown",
   "metadata": {},
   "source": [
    "## Conclusions and Takeaways\n",
    "\n",
    "Our objective was to reduce overhead costs by anticipating water pump maintenance status using a predictive model. In order to iteratively improve on the recall score for the model (and in turn achieve higher effectiveness) we:\n",
    "\n",
    "![Merry-Go-Gound](Images/conclusion.jpg)\n",
    "\n",
    "Improve maintenance planning & budgeting by:\n",
    "\n",
    "1. Using readily available categories of data\n",
    "2. Applying data to our model\n",
    "3. Model gives desired importance:\n",
    "    1. 91% for pumps needing any maintenacne\n",
    "    2. 78% for identifying level of maintenance\n"
   ]
  },
  {
   "attachments": {},
   "cell_type": "markdown",
   "metadata": {},
   "source": [
    "### Areas to Improve:\n",
    "\n",
    "- Better computational resources\n",
    "- Underlying data quality correlations\n",
    "- Obtain more data for integrity control\n",
    "- More sophisticated data correction\n",
    "- Further feature optimization\n",
    "- Informed feature engineering\n",
    "\n",
    "![improve](Images/improve.jpg)\n"
   ]
  },
  {
   "attachments": {},
   "cell_type": "markdown",
   "metadata": {},
   "source": [
    "### Growth Opportunities\n",
    "\n",
    "- Cautiously investigate applicability to other areas\n",
    "- Develop lifetime estimations\n",
    "- Invert model to identify demand for particulars\n",
    "- Combine with economic models\n",
    "\n",
    "![Growth](Images/Growth.jpg)\n"
   ]
  },
  {
   "cell_type": "markdown",
   "metadata": {},
   "source": [
    "## ASANTE!\n",
    "Or, Thank you!\n",
    "\n",
    "![Flag of Tanzania](Images/tanzania_flag.jpg)"
   ]
  },
  {
   "cell_type": "markdown",
   "metadata": {},
   "source": [
    "## Project Info\n",
    "\n",
    "Contributors: __[Alexander](https://www.linkedin.com/in/anewt/)__ __[Newton](https://github.com/anewt225)__, __[James](https://www.linkedin.com/in/james-shaw-848984104//)__ __[Shaw](https://github.com/godelayheehoo)__\n",
    "\n",
    "Languages  : Python\n",
    "\n",
    "Tools/IDE  : Git, Command Line (Windows), Anaconda, Jupyter Notebook, Google Slides\n",
    "\n",
    "Libraries  : numpy, pandas, matplotlib, seaborn, scikit-learn, missingno, geopandas, descartes, shapely\n",
    "\n",
    "Duration   : July 2020\n",
    "Last Update: 07.31.2020\n",
    "\n",
    "\n",
    "```python\n",
    "\n",
    "```\n"
   ]
  }
 ],
 "metadata": {
  "kernelspec": {
   "display_name": "Python 3",
   "language": "python",
   "name": "python3"
  },
  "language_info": {
   "codemirror_mode": {
    "name": "ipython",
    "version": 3
   },
   "file_extension": ".py",
   "mimetype": "text/x-python",
   "name": "python",
   "nbconvert_exporter": "python",
   "pygments_lexer": "ipython3",
   "version": "3.8.3"
  },
  "toc": {
   "base_numbering": 1,
   "nav_menu": {
    "height": "307.975px",
    "width": "377.975px"
   },
   "number_sections": true,
   "sideBar": false,
   "skip_h1_title": false,
   "title_cell": "Table of Contents",
   "title_sidebar": "Contents",
   "toc_cell": false,
   "toc_position": {
    "height": "485.926px",
    "left": "1137.79px",
    "top": "222.926px",
    "width": "284.433px"
   },
   "toc_section_display": true,
   "toc_window_display": true
  },
  "varInspector": {
   "cols": {
    "lenName": 16,
    "lenType": 16,
    "lenVar": 40
   },
   "kernels_config": {
    "python": {
     "delete_cmd_postfix": "",
     "delete_cmd_prefix": "del ",
     "library": "var_list.py",
     "varRefreshCmd": "print(var_dic_list())"
    },
    "r": {
     "delete_cmd_postfix": ") ",
     "delete_cmd_prefix": "rm(",
     "library": "var_list.r",
     "varRefreshCmd": "cat(var_dic_list()) "
    }
   },
   "types_to_exclude": [
    "module",
    "function",
    "builtin_function_or_method",
    "instance",
    "_Feature"
   ],
   "window_display": false
  }
 },
 "nbformat": 4,
 "nbformat_minor": 4
}
