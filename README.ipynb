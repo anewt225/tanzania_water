{
 "cells": [
  {
   "cell_type": "markdown",
   "metadata": {},
   "source": [
    "![Lake Tanganyika, Tanzania](Images/tanganyika.jpg)"
   ]
  },
  {
   "cell_type": "markdown",
   "metadata": {},
   "source": [
    "# Tanzania Water\n",
    "Flatiron Mod 3 Project"
   ]
  },
  {
   "cell_type": "markdown",
   "metadata": {},
   "source": [
    "## Overview\n",
    "\n",
    "\n",
    "\n",
    "### Repository Navigation\n",
    "- [Data Folder Includes](Data)\n",
    "    - [Data from Taarifa on datadriven.org](https://www.drivendata.org/competitions/7/pump-it-up-data-mining-the-water-table/data/)\n",
    "        - [Training Set Labels](Data/training_set_labels.csv)\n",
    "        - [Training Set Values](Data/training_set_values.csv)\n",
    "        - [Test Set Values](Data/test_set_values.csv)\n",
    "    - Modified Datasets\n",
    "        - [Combined Training Set](training_set.csv)\n",
    "        - [Altitude Data](Data/looked_up_alts.csv)\n",
    "        - [Cleaned Data](Data/cleaned_data_072920_shaw.csv)\n",
    "        - [Preliminary Data](Data/water_well.csv)\n",
    "\n",
    "\n",
    "- Notebooks: [Summary Notebook](Notebooks/Master_Notebook_2.ipynb)\n",
    "    - [Exploratory Data Analysis](Notebooks/EDA_Alex.ipynb)\n",
    "    - [Data Production](Notebooks/data_production_notebook.ipynb)\n",
    "    - [Determine Confidence Intervals](Notebooks/Confidence_Interval_with_inputs.ipynb)\n",
    "    - [Train Regression](Notebooks/Training_Regression.ipynb)\n",
    "    - [Make Prediction](Notebooks/Make_Prediction.ipynb)\n",
    "    - [Visualizations](Notebooks/Visualizations)\n",
    "\n",
    "- [Presentation](Presentation/Mod_2_Project.pdf)\n",
    "\n",
    "\n",
    "\n",
    "### ReadMe Navigation\n",
    "\n",
    "1. [Business Context](#Business-Context)\n",
    "2. [Current Landscape](#Data-Understanding)\n",
    "    1. The problem\n",
    "    2. Data Understanding\n",
    "    3. Data Limitations\n",
    "    \n",
    "4. Predictive Analysis\n",
    "    1. Our Model\n",
    "    2. Feature Importance\n",
    "    3. Model Performance\n",
    "    \n",
    "5. Conclusion & Takaways:\n",
    "    1. Improvement Areas\n",
    "    2. Growth Opportunities\n",
    "    3. Takeaways\n",
    "\n",
    "3. [Feature Engineering](#Feature-Engineering)\n",
    "4. [Model & Prediction](#Model-&-Prediction)\n",
    "5. [Conclusions](#Conclusions)\n",
    "6. [Further Steps](#Further-Steps)\n",
    "7. [Project Info](#Project-Info)\n",
    "\n",
    "***"
   ]
  },
  {
   "cell_type": "markdown",
   "metadata": {},
   "source": [
    "## Business Context\n",
    "\n",
    "Water in Africa: Techmnical and Equipment Researchers, LTD. (WATER) is a (hypothetical) consultancy which seeks to amplify the positive effects of progress in water point parts, supply, and maintenance. Progress may be made by the public and/or private sectors by analyzing, and anticipating the status of water point repair more quickly and efficiently.\n",
    "\n",
    "### Predicting Water Point Maintenance Status from Data\n",
    "\n",
    "The instrumental goal in this project is to construct a model capable of predicting the status of a waterpoint (specifically, in Tanzania), between the three states of \"functional\", \"functional needs repair\", and \"non functioning\".The underlying motivation is to create a cheaply implemented, readily available tool for businesses or other organizations looking to provide maintenance and replacement services for said waterpoints. This should in principle lower the overhead costs for such providers (less chance of over-ordering parts, over-hiring staff, etc.) and so should, due to lower volatility and increased profitability, stimulate the creation of new providers or expansion of new ones.\n",
    "\n",
    "A major factor in waterpoint failure is difficulty in accessing necessary maintenance; this model would help ameliorate that. In summary, our goal was:\n",
    "\n",
    "**Reduce overhead costs by anticipating water pump maintenance status.**\n",
    "\n",
    "\n",
    "\n",
    "\n",
    "***"
   ]
  },
  {
   "cell_type": "markdown",
   "metadata": {},
   "source": [
    "### The Problem\n",
    "\n",
    "Providing additional context, we viewed several problems: several water points need work, maintenance was costly and infrequent, and water points would stay in states of disrepair because of these costs\n",
    "\n",
    "Our model helps to fix those problems by starting with more efficient market planning in determining resource distributions and repair/maintenance/parts necessities. Further, it should reduce volatility and increase profitability for maintenance providers. Finally, ideally it would increase the size of the pie by enabling more maintenance providers to enter the space"
   ]
  },
  {
   "cell_type": "markdown",
   "metadata": {},
   "source": [
    "## Data Understanding\n",
    "\n",
    "The data from this project came from various collection efforts in the early 2000s, with GeoData LTD. listed as the data recorder. Combining industry knowledge with \n",
    "\n",
    "Overall, the data provided included the sales price and other information for around 21,000 houses sold between May 2014 and My 2015.\n",
    "\n",
    "An overall map of the data:\n",
    "![King County House Sales](Images/location.png)\n",
    "\n",
    "The distribution of prices looked like this:\n",
    "\n",
    "![Price Histogram](Images/price.png)\n",
    "\n",
    "### Data Categories\n",
    "####  Geographical\n",
    "This data included politically geographical data as well as geological data about the altitudes of the water points\n",
    "\n",
    "\n",
    "#### Management\n",
    "Several index names covered this category: installer, scheme management, management, etc.\n",
    "\n",
    "#### Waterpoint Specifics\n",
    "These datapoints could be summarized as specific to the actual water point - names, type of extraction, quality of the water, etc.\n",
    "\n",
    "#### Numerical, Ordinal,  Categorical\n",
    "The datatypes used in these columns were of various types that would have to be considered when implementing our algorithms.\n",
    "\n",
    "### Feature Importance\n",
    "In order to make the model understandable, we extracted the features which the model determined to be most impactfully correlated with the status group, including: quantity of water available, region, payment type, source, elevation, etc."
   ]
  },
  {
   "cell_type": "markdown",
   "metadata": {},
   "source": [
    "### Data Limitations\n",
    "\n",
    "Amongst others, the limitations on data we encountered that would impact how our model trained:\n",
    "\n",
    "1. Multiple reporters\n",
    "2. Inconsistent naming/reporting\n",
    "3. Opaque Values\n",
    "4. Few examples of \"needs repair\"\n",
    "5. Clear mistakes\n",
    "\n",
    "We \"solved some of these issues by:\n",
    "1. Autocorrection for typographical errors\n",
    "2. Google maps data for missing elevation data\n",
    "3. Filling in other missing data by the most similar attributes\n",
    "                                        \n",
    "\n",
    "***"
   ]
  },
  {
   "cell_type": "raw",
   "metadata": {},
   "source": []
  },
  {
   "cell_type": "markdown",
   "metadata": {},
   "source": [
    "## Feature Engineering\n",
    "Given the categories of data listed above, we selected certain factors within the dataset, and created or found new features that would help to create a more accurate pricing model. The new features were:\n",
    "\n",
    "1. Defining top school districts\n",
    "2. Creating a \"season sold\" factor\n",
    "3. Reshaping categorical values from continuous variables (e.g., grade/condition)\n",
    "4. Combining features, like ratio of basement space to living space\n",
    "5. Creating a user input function\n",
    "\n",
    "***"
   ]
  },
  {
   "cell_type": "markdown",
   "metadata": {},
   "source": [
    "## Model & Prediction\n",
    "\n",
    "We used the Ordinary Least Squares Regression to create a model which would help determine the most impactful factors and help us more accurately predict the prices.\n",
    "\n",
    "### Test Assumptions (Linearity, Multicollinearity)\n",
    "In order for this model to work the most effectively, we evaluated it for linearity between factors, and multicollinearity between pairs of factors, which gave us the following:\n",
    "\n",
    "![Linearity](Images/linearity.png)\n",
    "\n",
    "\n",
    "![Multicollinearity](Images/multicollinearity.png)\n",
    "\n",
    "\n",
    "\n",
    "### Iterate and Evaluate Models\n",
    "\n",
    "After iterating through, and making adjustments to, and evaluating 3 regression models, we adopted the final one using the highest R-squared value as a measure of performance. With more time we could have further refined the model to account for what appears to be an exponential function from the residuals plot:\n",
    "\n",
    "![Residuals](Images/QQ_Residuals_Plot.png)\n",
    "\n",
    "\n",
    "\n",
    "\n",
    "### Predict Values with Example Inputs\n",
    "\n",
    "Given the model we produced, we were able to create functions that would take the user inputs and output a prediction. In this example, the potential client would input the numbers after the colon:\n",
    "\n",
    "\n",
    "![Example Prediction](Images/example_prediction.png)\n",
    "\n"
   ]
  },
  {
   "cell_type": "markdown",
   "metadata": {},
   "source": [
    "## Conclusions\n",
    "\n",
    "The most predictive factors in home price were:\n",
    "\n",
    "### Location\n",
    "Price would increase by  180k USD for top 5 school district, by 210k for homes outside the city, and 480k for homes on the waterfront\n",
    "\n",
    "![Great Location!](Images/seattle-2426307.jpg)\n",
    "\n",
    "### Home Size\n",
    "Basement square footage is worth less than square footage above ground, and too many bedrooms could lower the value of the house.\n",
    "\n",
    "![Home Size](Images/sq_ft_living.png)\n",
    "\n",
    "### Quality\n",
    "Homes with high grades (good architecture and build quality) are worth significantly more than lower grades, and homes in a very good condition have a relatively significant impact over just average homes.\n",
    "\n",
    "![Grade 6 vs Grade 12 Home](Images/grade6vs12.png)\n",
    "\n",
    "### When to Sell\n",
    "Homes sold in spring/summer sold significantly more than those sold in fall/winter - presumably from that gloomy Seattle rain :-P\n",
    "\n",
    "![Seasons Sold Comparison Price](Images/mean_price_season_sold.png)"
   ]
  },
  {
   "cell_type": "markdown",
   "metadata": {},
   "source": [
    "## Further Steps\n",
    "\n",
    "### Internal to Data Science Team\n",
    "With less of a time constraint, we would:\n",
    "\n",
    "1. Fix normality issues in model.\n",
    "2. Fix heteroskedasticity issues in model.\n",
    "3. Fix multicollinearity issues in model\n",
    "4. Test effectiveness of model using test data.\n",
    "5. Explore industry and create new features\n",
    "5. Deploy consumer product\n",
    "\n",
    "### For Real Estate Team\n",
    "Given additional resources, we would recommend the following to the firm:\n",
    "\n",
    "1. Collect additional relevant data around other factors, using expertise\n",
    "2. Open up to home prices above 1 million\n",
    "3. Provide more time-relevant data\n"
   ]
  },
  {
   "cell_type": "markdown",
   "metadata": {},
   "source": [
    "## ASANTE!\n",
    "Or, Thank you!\n",
    "\n",
    "![Flag of Tanzania](Images/tanzania_flag.jpg)"
   ]
  },
  {
   "cell_type": "markdown",
   "metadata": {},
   "source": [
    "## Project Info\n",
    "\n",
    "Contributors: __[Alexander](https://www.linkedin.com/in/anewt/)__ __[Newton](https://github.com/anewt225)__, __[James](https://www.linkedin.com/in/james-shaw-848984104//)__ __[Shaw](https://github.com/godelayheehoo)__\n",
    "\n",
    "Languages  : Python\n",
    "\n",
    "Tools/IDE  : Git, Command Line (Windows), Anaconda, Jupyter Notebook, Google Slides\n",
    "\n",
    "Libraries  : numpy, pandas, matplotlib, seaborn, scikit-learn, missingno, geopandas, descartes, shapely\n",
    "\n",
    "Duration   : July 2020\n",
    "Last Update: 07.31.2020\n",
    "\n",
    "\n",
    "```python\n",
    "\n",
    "```\n"
   ]
  }
 ],
 "metadata": {
  "kernelspec": {
   "display_name": "Python 3",
   "language": "python",
   "name": "python3"
  },
  "language_info": {
   "codemirror_mode": {
    "name": "ipython",
    "version": 3
   },
   "file_extension": ".py",
   "mimetype": "text/x-python",
   "name": "python",
   "nbconvert_exporter": "python",
   "pygments_lexer": "ipython3",
   "version": "3.8.3"
  },
  "toc": {
   "base_numbering": 1,
   "nav_menu": {
    "height": "307.975px",
    "width": "377.975px"
   },
   "number_sections": true,
   "sideBar": true,
   "skip_h1_title": false,
   "title_cell": "Table of Contents",
   "title_sidebar": "Contents",
   "toc_cell": false,
   "toc_position": {},
   "toc_section_display": true,
   "toc_window_display": true
  },
  "varInspector": {
   "cols": {
    "lenName": 16,
    "lenType": 16,
    "lenVar": 40
   },
   "kernels_config": {
    "python": {
     "delete_cmd_postfix": "",
     "delete_cmd_prefix": "del ",
     "library": "var_list.py",
     "varRefreshCmd": "print(var_dic_list())"
    },
    "r": {
     "delete_cmd_postfix": ") ",
     "delete_cmd_prefix": "rm(",
     "library": "var_list.r",
     "varRefreshCmd": "cat(var_dic_list()) "
    }
   },
   "types_to_exclude": [
    "module",
    "function",
    "builtin_function_or_method",
    "instance",
    "_Feature"
   ],
   "window_display": false
  }
 },
 "nbformat": 4,
 "nbformat_minor": 4
}
